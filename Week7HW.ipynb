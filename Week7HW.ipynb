{
  "nbformat": 4,
  "nbformat_minor": 0,
  "metadata": {
    "colab": {
      "name": "Week7HW.ipynb",
      "provenance": [],
      "authorship_tag": "ABX9TyNBjurWUE3qam4LVvTxWWi3",
      "include_colab_link": true
    },
    "kernelspec": {
      "name": "python3",
      "display_name": "Python 3"
    },
    "language_info": {
      "name": "python"
    }
  },
  "cells": [
    {
      "cell_type": "markdown",
      "metadata": {
        "id": "view-in-github",
        "colab_type": "text"
      },
      "source": [
        "<a href=\"https://colab.research.google.com/github/ducnghich/Phython/blob/main/Week7HW.ipynb\" target=\"_parent\"><img src=\"https://colab.research.google.com/assets/colab-badge.svg\" alt=\"Open In Colab\"/></a>"
      ]
    },
    {
      "cell_type": "code",
      "execution_count": null,
      "metadata": {
        "colab": {
          "base_uri": "https://localhost:8080/"
        },
        "id": "F9XzdaKeWg9p",
        "outputId": "86aab249-29e3-4b8d-cf5f-6666e0dfe834"
      },
      "outputs": [
        {
          "output_type": "stream",
          "name": "stdout",
          "text": [
            "3.5\n",
            "4.5\n",
            "4.69\n"
          ]
        }
      ],
      "source": [
        "#1 \n",
        "import numpy as np\n",
        "def avg_of_2(x,y):\n",
        "  return (x+y)/2\n",
        "\n",
        "def avg_of_list(myNums):\n",
        "  total = 0 \n",
        "  for i in myNums:\n",
        "    total = total + i \n",
        "  return total/len(myNums)\n",
        "\n",
        "def expectedValue1(info,weight):\n",
        "  return (info @ weight)\n",
        "\n",
        "num1 = 2 \n",
        "num2 = 5 \n",
        "print(avg_of_2(num1,num2))\n",
        "\n",
        "z = [1,2,3,4,5,6,7,8]\n",
        "print(avg_of_list(z))\n",
        "\n",
        "info = np.array([2,3,4,5,6])\n",
        "weight = np.array([.1,.15,.07,.32,.36])\n",
        "print(expectedValue1(info,weight))"
      ]
    },
    {
      "cell_type": "code",
      "source": [
        "#2. Sum from a to b \n",
        "def sumRange(a,b):\n",
        "    total = 0 \n",
        "    for i in range(a,b+1):\n",
        "      total = total + i \n",
        "    return total \n",
        "\n",
        "print(sumRange(5,8))"
      ],
      "metadata": {
        "colab": {
          "base_uri": "https://localhost:8080/"
        },
        "id": "2QYqHBs8aUlT",
        "outputId": "8cc80161-bcc2-458d-da7c-aaaabe474bc3"
      },
      "execution_count": null,
      "outputs": [
        {
          "output_type": "stream",
          "name": "stdout",
          "text": [
            "26\n"
          ]
        }
      ]
    },
    {
      "cell_type": "code",
      "source": [
        "#3. outpit the triagle numers, or squares, or pentoganol numbers\n",
        "def shapeNumbers(shape):\n",
        "  if (shape == \"triangle\"):\n",
        "    skipVal = 1\n",
        "  elif(shape == \"square\"):\n",
        "    skipVal = 2 \n",
        "  elif(shape == \"pentagon\"):\n",
        "    skipVal = 3\n",
        "\n",
        "  total = 0 \n",
        "  for i in range (1,100,skipVal):\n",
        "    total = total + i \n",
        "    print(total,end = \" \")\n",
        "  print()\n",
        "\n",
        "shapeNumbers(\"triangle\")\n",
        "shapeNumbers(\"square\")\n",
        "shapeNumbers(\"pentagon\")\n",
        "  "
      ],
      "metadata": {
        "colab": {
          "base_uri": "https://localhost:8080/"
        },
        "id": "Bb1TwzVebC11",
        "outputId": "fadb943c-3114-4981-e3b6-8efaadb3b23b"
      },
      "execution_count": null,
      "outputs": [
        {
          "output_type": "stream",
          "name": "stdout",
          "text": [
            "1 3 6 10 15 21 28 36 45 55 66 78 91 105 120 136 153 171 190 210 231 253 276 300 325 351 378 406 435 465 496 528 561 595 630 666 703 741 780 820 861 903 946 990 1035 1081 1128 1176 1225 1275 1326 1378 1431 1485 1540 1596 1653 1711 1770 1830 1891 1953 2016 2080 2145 2211 2278 2346 2415 2485 2556 2628 2701 2775 2850 2926 3003 3081 3160 3240 3321 3403 3486 3570 3655 3741 3828 3916 4005 4095 4186 4278 4371 4465 4560 4656 4753 4851 4950 \n",
            "1 4 9 16 25 36 49 64 81 100 121 144 169 196 225 256 289 324 361 400 441 484 529 576 625 676 729 784 841 900 961 1024 1089 1156 1225 1296 1369 1444 1521 1600 1681 1764 1849 1936 2025 2116 2209 2304 2401 2500 \n",
            "1 5 12 22 35 51 70 92 117 145 176 210 247 287 330 376 425 477 532 590 651 715 782 852 925 1001 1080 1162 1247 1335 1426 1520 1617 \n"
          ]
        }
      ]
    },
    {
      "cell_type": "code",
      "source": [
        "# list of primes below some n \n",
        "# first create a funttion that tells you if a numbers is prime\n",
        "def isPrime(number):\n",
        "  for i in range(2,number):\n",
        "    if (number%i == 0):\n",
        "      return False\n",
        "  return True\n",
        "\n",
        "def listPrimes(number):\n",
        "  for i in range(2,number + 1):\n",
        "    if (isPrime(i)):\n",
        "      print(i,end = \" \")\n",
        "\n",
        "listPrimes(100)"
      ],
      "metadata": {
        "colab": {
          "base_uri": "https://localhost:8080/"
        },
        "id": "rcX0gZgKeeWu",
        "outputId": "62d8b707-de8b-4391-bcfa-b831a216e577"
      },
      "execution_count": null,
      "outputs": [
        {
          "output_type": "stream",
          "name": "stdout",
          "text": [
            "2 3 5 7 11 13 17 19 23 29 31 37 41 43 47 53 59 61 67 71 73 79 83 89 97 "
          ]
        }
      ]
    },
    {
      "cell_type": "code",
      "source": [
        "#5 list all numbers below some n that are coprime to it \n",
        "#coprime means that a and b only share 1 as divisor \n",
        "#for instance 12 shares only a 1 with 1,5,7 and 11 \n",
        "#the key here is to break ddown the problem into multiple fnctions\n",
        "def isCoprime(a,b):\n",
        "  #make sure a<b\n",
        "  if(a>b):\n",
        "    holder = a\n",
        "    a = b\n",
        "    b = holder \n",
        "\n",
        "  for i in range (2,a+1):\n",
        "    if (a%i == 0 and b%i == 0):\n",
        "      return False \n",
        "  return True\n",
        "\n",
        "def listCoprimes(number):\n",
        "  for i in range(1,number):\n",
        "    if (isCoprime(i,number)):\n",
        "      print(i, end=\" \")\n",
        "\n",
        "listCoprimes(17)\n"
      ],
      "metadata": {
        "colab": {
          "base_uri": "https://localhost:8080/"
        },
        "id": "GUsKdm4sfv9q",
        "outputId": "ca296c54-c8e4-47b2-be62-7acec2086ee1"
      },
      "execution_count": null,
      "outputs": [
        {
          "output_type": "stream",
          "name": "stdout",
          "text": [
            "1 2 3 4 5 6 7 8 9 10 11 12 13 14 15 16 "
          ]
        }
      ]
    },
    {
      "cell_type": "code",
      "source": [
        "#7 Twin Prime \n",
        "\n",
        "def isTwinPrime(s):\n",
        "  if(isPrime(s) and isPrime(s+2)):\n",
        "    return True\n",
        "  return False\n",
        "\n",
        "def listTwinPrime(number):\n",
        "  for i in range(number+1):\n",
        "    if(isTwinPrime(i)):\n",
        "      print(i,i+2)\n",
        "\n",
        "listTwinPrime(100)\n"
      ],
      "metadata": {
        "colab": {
          "base_uri": "https://localhost:8080/"
        },
        "id": "0CEw7lGBfu15",
        "outputId": "81067da3-92b8-42fc-f738-5000602159f5"
      },
      "execution_count": null,
      "outputs": [
        {
          "output_type": "stream",
          "name": "stdout",
          "text": [
            "0 2\n",
            "1 3\n",
            "3 5\n",
            "5 7\n",
            "11 13\n",
            "17 19\n",
            "29 31\n",
            "41 43\n",
            "59 61\n",
            "71 73\n"
          ]
        }
      ]
    },
    {
      "cell_type": "code",
      "source": [
        "#8testing rock,paper,scissors \n",
        "import random as rnd\n",
        "\n",
        "rock = paper = scissors = 0\n",
        "\n",
        "for i in range (10000):\n",
        "  playerOne = rnd.randint(1,3)\n",
        "  playerTwo = rnd.randint(1,3)\n",
        "  if ((playerOne == 1 and playerTwo ==3) or ( playerOne == 3 and playerTwo ==1)):\n",
        "    rock = rock + 1\n",
        "  elif ((playerOne == 2 and playerTwo ==1) or ( playerOne == 1 and playerTwo ==2)):\n",
        "    paper= paper + 1 \n",
        "  elif ((playerOne == 3 and playerTwo ==2) or ( playerOne == 2 and playerTwo ==3)):\n",
        "    scissors = scissors + 1\n",
        "\n",
        "print(rock/10000)\n",
        "print(paper/10000)\n",
        "print(scissors/10000)\n",
        "print((10000-(rock+paper+scissors))/10000)"
      ],
      "metadata": {
        "colab": {
          "base_uri": "https://localhost:8080/"
        },
        "id": "OmDMBhb6sBwP",
        "outputId": "9dd650c8-4098-4b4c-ac01-b56c90b9748a"
      },
      "execution_count": null,
      "outputs": [
        {
          "output_type": "stream",
          "name": "stdout",
          "text": [
            "0.2196\n",
            "0.2237\n",
            "0.2243\n",
            "0.3324\n"
          ]
        }
      ]
    },
    {
      "cell_type": "code",
      "source": [
        "import random as rnd\n",
        "\n",
        "def noChange():\n",
        "\n",
        "  #set 1 and 2 to a goat and 3 to a prize \n",
        "  myList =[1,2,3]\n",
        "  rnd.shuffle(myList)\n",
        "\n",
        "  doors = ['goat','goat','goat']\n",
        "  doors[myList.index(3)] = 'prize'\n",
        "\n",
        "  if doors[0] == 'prize':\n",
        "    return True\n",
        "  else:\n",
        "    return False\n",
        "  \n",
        "def measureNoChange():\n",
        "  total = 0 \n",
        "  for i in range(100000):\n",
        "    if (noChange()):\n",
        "      total = total +1\n",
        "  print(total/100000)\n",
        "\n",
        "measureNoChange() "
      ],
      "metadata": {
        "colab": {
          "base_uri": "https://localhost:8080/"
        },
        "id": "qRAlGLU7u_ii",
        "outputId": "4c8da121-d6fe-4264-f9b2-5916b2930e87"
      },
      "execution_count": null,
      "outputs": [
        {
          "output_type": "stream",
          "name": "stdout",
          "text": [
            "0.33001\n"
          ]
        }
      ]
    },
    {
      "cell_type": "code",
      "source": [
        "def yesChange():\n",
        "\n",
        "  #set 1 and 2 to a goat and 3 to a prize \n",
        "  myList =[1,2,3]\n",
        "  rnd.shuffle(myList)\n",
        "\n",
        "  doors = ['goat','goat','goat']\n",
        "  doors[myList.index(3)] = 'prize'\n",
        "\n",
        "  choice = 0 \n",
        "\n",
        "  toShow = doors[1:3]\n",
        "  door_to_show = toShow.index('goat')\n",
        "\n",
        "  if(door_to_show==0):\n",
        "    if(doors[2] == 'prize'):\n",
        "      return True \n",
        "    else:\n",
        "      return False\n",
        "  elif(door_to_show == 1):\n",
        "    if(doors[1] == 'prize'):\n",
        "      return True \n",
        "    else:\n",
        "      return False \n",
        "\n",
        "def measureChange():\n",
        "  total = 0 \n",
        "  for i in range(100000):\n",
        "    if (yesChange()):\n",
        "      total = total +1\n",
        "  print(total/100000)\n",
        "\n",
        "measureChange()"
      ],
      "metadata": {
        "colab": {
          "base_uri": "https://localhost:8080/"
        },
        "id": "PQg34_li0GS9",
        "outputId": "67334f2d-34ae-4410-eea3-d94a345b1ca8"
      },
      "execution_count": null,
      "outputs": [
        {
          "output_type": "stream",
          "name": "stdout",
          "text": [
            "0.66741\n"
          ]
        }
      ]
    }
  ]
}