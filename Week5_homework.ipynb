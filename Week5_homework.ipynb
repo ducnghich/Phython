{
  "nbformat": 4,
  "nbformat_minor": 0,
  "metadata": {
    "colab": {
      "name": "Week5 homework",
      "provenance": [],
      "authorship_tag": "ABX9TyOA/Fd+DDteiL0wmG0rGIBJ",
      "include_colab_link": true
    },
    "kernelspec": {
      "name": "python3",
      "display_name": "Python 3"
    },
    "language_info": {
      "name": "python"
    }
  },
  "cells": [
    {
      "cell_type": "markdown",
      "metadata": {
        "id": "view-in-github",
        "colab_type": "text"
      },
      "source": [
        "<a href=\"https://colab.research.google.com/github/ducnghich/Phython/blob/main/Week5_homework.ipynb\" target=\"_parent\"><img src=\"https://colab.research.google.com/assets/colab-badge.svg\" alt=\"Open In Colab\"/></a>"
      ]
    },
    {
      "cell_type": "markdown",
      "source": [
        ""
      ],
      "metadata": {
        "id": "RnFcuOmkdhD8"
      }
    },
    {
      "cell_type": "code",
      "source": [
        ""
      ],
      "metadata": {
        "id": "EVW0nS3XdeF2"
      },
      "execution_count": null,
      "outputs": []
    },
    {
      "cell_type": "markdown",
      "source": [
        "### Ask a user for their name and age. Ensure that they give letters for their name and numbers for their age. Then ensure that they give an age between 1 and 100, inclusive. Give them three chances for this, otherwise output a message: \"Unacceptable.\" If they're name and age are acceptable output the message: \"Acceptable\""
      ],
      "metadata": {
        "id": "dAhHAJWFdfZj"
      }
    },
    {
      "cell_type": "code",
      "execution_count": 16,
      "metadata": {
        "colab": {
          "base_uri": "https://localhost:8080/"
        },
        "id": "sK8OT-WVaUTx",
        "outputId": "2cf767dc-597c-4181-9620-7798d8f41a6c"
      },
      "outputs": [
        {
          "output_type": "stream",
          "name": "stdout",
          "text": [
            "Please give me a number for your age\tasd\n",
            "Please enter a number for your age\tqwd\n",
            "Please enter a number for your age\tas\n",
            "You have tried 3 times\n",
            "Unacceptable.\n",
            "Please give me your name:\t12\n",
            "Please enter a name\t23\n",
            "Please enter a name\t12\n",
            "You have tried 3 times\n",
            "Unacceptable.\n"
          ]
        }
      ],
      "source": [
        "#chech that the age given is a number and enforece this\n",
        "ageright=True\n",
        "nameright=True\n",
        "chances =0 \n",
        "\n",
        "age = input(\"Please give me a number for your age\\t\")\n",
        "while not(age.isdigit()):\n",
        "  if(chances>=2):\n",
        "    print(\"You have tried 3 times\") \n",
        "    ageright=False\n",
        "    break\n",
        "  age= input(\"Please enter a number for your age\\t\") \n",
        "  chances +=1\n",
        "if (not ageright):\n",
        "  print(\"Unacceptable.\")\n",
        "\n",
        "#convert the age to a number\n",
        "else:\n",
        "  age = int(age)\n",
        "  print(\"acceptable\")\n",
        "\n",
        "chances1=0\n",
        "\n",
        "\n",
        "#check that the name is a bunch of letters and not numbers and enforce this\n",
        "name = input(\"Please give me your name:\\t\")\n",
        "while not(name.isalpha()):\n",
        "  if(chances1>=2):\n",
        "    print(\"You have tried 3 times\") \n",
        "    nameright=False\n",
        "    break\n",
        "  name= input(\"Please enter a name\\t\") \n",
        "  chances1 +=1\n",
        "if (not nameright):\n",
        "  print(\"Unacceptable.\")\n",
        "else:\n",
        "  print(\"acceptable\")\n",
        "\n"
      ]
    },
    {
      "cell_type": "markdown",
      "source": [
        "### Print numbers with 3 in them "
      ],
      "metadata": {
        "id": "E3dY4wV8dicU"
      }
    },
    {
      "cell_type": "code",
      "source": [
        "#pull the digits froma number \n",
        "\n",
        "for x in range(1,1001):\n",
        "  hasThree=False\n",
        "  holder = x \n",
        "\n",
        "#check if it has a three\n",
        "  while (holder>0):\n",
        "    if (holder%10==3):\n",
        "      hasThree=True\n",
        "    break\n",
        "  holder= holder//10\n",
        "\n",
        "  if(hasThree):\n",
        "    print(x,end=\" | \")"
      ],
      "metadata": {
        "colab": {
          "base_uri": "https://localhost:8080/"
        },
        "id": "Lr3GXCP6dt7Z",
        "outputId": "cef43d34-ff19-4fb2-cb1a-9a8ac8b0098b"
      },
      "execution_count": 17,
      "outputs": [
        {
          "output_type": "stream",
          "name": "stdout",
          "text": [
            "3 | 13 | 23 | 33 | 43 | 53 | 63 | 73 | 83 | 93 | 103 | 113 | 123 | 133 | 143 | 153 | 163 | 173 | 183 | 193 | 203 | 213 | 223 | 233 | 243 | 253 | 263 | 273 | 283 | 293 | 303 | 313 | 323 | 333 | 343 | 353 | 363 | 373 | 383 | 393 | 403 | 413 | 423 | 433 | 443 | 453 | 463 | 473 | 483 | 493 | 503 | 513 | 523 | 533 | 543 | 553 | 563 | 573 | 583 | 593 | 603 | 613 | 623 | 633 | 643 | 653 | 663 | 673 | 683 | 693 | 703 | 713 | 723 | 733 | 743 | 753 | 763 | 773 | 783 | 793 | 803 | 813 | 823 | 833 | 843 | 853 | 863 | 873 | 883 | 893 | 903 | 913 | 923 | 933 | 943 | 953 | 963 | 973 | 983 | 993 | "
          ]
        }
      ]
    },
    {
      "cell_type": "markdown",
      "source": [
        "### Show number add to 23 and have 3 in it"
      ],
      "metadata": {
        "id": "_7WlA9isd4WO"
      }
    },
    {
      "cell_type": "code",
      "source": [
        "#pull the digits froma number \n",
        "for i in range(1,10001):\n",
        "  hasThree=False\n",
        "  total = 0\n",
        "  x = holder  =i\n",
        "\n",
        "  #check if it has a three\n",
        "  while (holder>0):\n",
        "    if (holder%10==3):\n",
        "      hasThree=True\n",
        "    break\n",
        "  holder= holder//10\n",
        "\n",
        "  #add the digits together \n",
        "  while (hasThree and x>0):\n",
        "    total+= x%10\n",
        "    x=x//10\n",
        "\n",
        "  if(total == 23):\n",
        "    print(i,end=\" \")\n",
        "  "
      ],
      "metadata": {
        "id": "iD5ZnbPCd748"
      },
      "execution_count": null,
      "outputs": []
    },
    {
      "cell_type": "markdown",
      "source": [
        "###Even number from 100 to 0 "
      ],
      "metadata": {
        "id": "yNhnKMSteAh6"
      }
    },
    {
      "cell_type": "code",
      "source": [
        "for i in range (100,0,-2):\n",
        "  print(i,end=\" | \")"
      ],
      "metadata": {
        "colab": {
          "base_uri": "https://localhost:8080/"
        },
        "id": "RiKxINGZeC7s",
        "outputId": "d0296ca2-06a4-4787-e348-bf27d19d64b1"
      },
      "execution_count": 18,
      "outputs": [
        {
          "output_type": "stream",
          "name": "stdout",
          "text": [
            "100 | 98 | 96 | 94 | 92 | 90 | 88 | 86 | 84 | 82 | 80 | 78 | 76 | 74 | 72 | 70 | 68 | 66 | 64 | 62 | 60 | 58 | 56 | 54 | 52 | 50 | 48 | 46 | 44 | 42 | 40 | 38 | 36 | 34 | 32 | 30 | 28 | 26 | 24 | 22 | 20 | 18 | 16 | 14 | 12 | 10 | 8 | 6 | 4 | 2 | "
          ]
        }
      ]
    },
    {
      "cell_type": "markdown",
      "source": [
        "###Prime number"
      ],
      "metadata": {
        "id": "BL5pjtYber8L"
      }
    },
    {
      "cell_type": "code",
      "source": [
        "for i in range (100,1001):\n",
        "  isPrime = True\n",
        "\n",
        "  start = 2\n",
        "  while(start<i):\n",
        "    if(i%start==0):\n",
        "      isPrime= False \n",
        "      break\n",
        "    start +=1 \n",
        "\n",
        "  if(isPrime):\n",
        "    print(i,end=\" \")"
      ],
      "metadata": {
        "id": "l6QHyinherLi"
      },
      "execution_count": null,
      "outputs": []
    }
  ]
}