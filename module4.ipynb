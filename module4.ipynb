{
  "nbformat": 4,
  "nbformat_minor": 0,
  "metadata": {
    "colab": {
      "name": "module4.ipynb",
      "provenance": [],
      "authorship_tag": "ABX9TyMw2NFNZRq158vUwWF18iCc",
      "include_colab_link": true
    },
    "kernelspec": {
      "name": "python3",
      "display_name": "Python 3"
    },
    "language_info": {
      "name": "python"
    }
  },
  "cells": [
    {
      "cell_type": "markdown",
      "metadata": {
        "id": "view-in-github",
        "colab_type": "text"
      },
      "source": [
        "<a href=\"https://colab.research.google.com/github/ducnghich/Phython/blob/main/module4.ipynb\" target=\"_parent\"><img src=\"https://colab.research.google.com/assets/colab-badge.svg\" alt=\"Open In Colab\"/></a>"
      ]
    },
    {
      "cell_type": "code",
      "execution_count": null,
      "metadata": {
        "colab": {
          "base_uri": "https://localhost:8080/"
        },
        "id": "htNWGm23oPaL",
        "outputId": "132366c0-d31f-4f1c-9649-b0398b2b346d"
      },
      "outputs": [
        {
          "output_type": "stream",
          "name": "stdout",
          "text": [
            "Enter the amount the purchased: 50\n",
            "The total amount would be  3465.0\n"
          ]
        }
      ],
      "source": [
        "def discounts(x):\n",
        "  if x>9 and x<20:\n",
        "    result = (x*99)\n",
        "    discount =(result*.10)\n",
        "    back = result-discount\n",
        "    print(\"The total amount would be \",back)\n",
        "  elif x>19 and x<50:\n",
        "    result = (x*99)\n",
        "    discount =(result*.20)\n",
        "    back = result-discount\n",
        "    print(\"The total amount would be \",back)\n",
        "  elif x>49 and x<100:\n",
        "    result = (x*99)\n",
        "    discount =(result*.30)\n",
        "    back = result-discount\n",
        "    print(\"The total amount would be \",back)\n",
        "  elif x>99 :\n",
        "    result = (x*99)\n",
        "    discount =(result*.40)\n",
        "    back = result-discount\n",
        "    print(\"The total amount would be \",back)\n",
        "  else:\n",
        "    result = (x*99)\n",
        "    print(\"The total amount would be \",result)\n",
        "\n",
        "QuantityPurchase = int(input(\"Enter the amount the purchased: \"))\n",
        "discounts(QuantityPurchase)\n"
      ]
    },
    {
      "cell_type": "markdown",
      "source": [
        "**Define math fuction to do discount**\n",
        "\n",
        "```\n",
        "def discounts(x):\n",
        "  if x>9 and x<20:\n",
        "    result = (x*99)\n",
        "    discount =(result*.10)\n",
        "    back = result-discount\n",
        "    print(\"The total amount would be \",back)\n",
        "  elif x>19 and x<50:\n",
        "    result = (x*99)\n",
        "    discount =(result*.20)\n",
        "    back = result-discount\n",
        "    print(\"The total amount would be \",back)\n",
        "  elif x>49 and x<100:\n",
        "    result = (x*99)\n",
        "    discount =(result*.30)\n",
        "    back = result-discount\n",
        "    print(\"The total amount would be \",back)\n",
        "  elif x>99 :\n",
        "  result = (x*99)\n",
        "    discount =(result*.40)\n",
        "    back = result-discount\n",
        "    print(\"The total amount would be \",back)\n",
        "  else:\n",
        "    result = (x*99)\n",
        "    print(\"The total amount would be \",result)\n",
        "\n",
        "```\n",
        "**Ask input from user**\n",
        "```\n",
        "QuantityPurchase = int(input(\"Enter the amount the purchased: \"))\n",
        "```\n",
        "**Call funtion**\n",
        "```\n",
        "discounts(QuantityPurchase)\n",
        "```\n",
        "\n"
      ],
      "metadata": {
        "id": "sd5SZ8N-Wszy"
      }
    },
    {
      "cell_type": "code",
      "source": [
        "def ShippingCost(x):\n",
        "  if x<=2:\n",
        "    print(round(x*1.5,2))\n",
        "  elif x>2 and x<=6:\n",
        "    print(round(x*3,2))\n",
        "  elif x>6 and x<=10:\n",
        "    print(round(x*4,2))\n",
        "  else:\n",
        "    print(round(x*4.75,2))\n",
        "\n",
        "WeightOfPackage = float(input(\"Enter the weight of the shipment: \"))\n",
        "ShippingCost(WeightOfPackage)"
      ],
      "metadata": {
        "colab": {
          "base_uri": "https://localhost:8080/"
        },
        "id": "75ZjJbNhsEBQ",
        "outputId": "ee3dd468-70b0-45a5-fd16-3caea4d1c075"
      },
      "execution_count": null,
      "outputs": [
        {
          "output_type": "stream",
          "name": "stdout",
          "text": [
            "Enter the weight of the shipment: 5.6\n",
            "16.8\n"
          ]
        }
      ]
    },
    {
      "cell_type": "markdown",
      "source": [
        "**Define funtion to do shipping cost**\n",
        "```\n",
        "def ShippingCost(x):\n",
        "  if x<=2:\n",
        "    print(round(x*1.5,2))\n",
        "  elif x>2 and x<=6:\n",
        "    print(round(x*3,2))\n",
        "  elif x>6 and x<=10:\n",
        "    print(round(x*4,2))\n",
        "  else:\n",
        "    print(round(x*4.75,2))\n",
        "```\n",
        "**Take input from user**\n",
        "```\n",
        "WeightOfPackage = float(input(\"Enter the weight of the shipment: \"))\n",
        "```\n",
        "**Call funtion and pass the parameter**\n",
        "```\n",
        "ShippingCost(WeightOfPackage)\n",
        "```"
      ],
      "metadata": {
        "id": "zulCwehmWrts"
      }
    }
  ]
}