<h1> Assignment 3</h1>
<h3> Ask user for input </h3>

f = float(input('Please enter the amount of future money you want:'))

inter = float(input("Please enter the apr in decimal:"))

t = float(input('Please enter the term: '))

**Math portion**

NeededAmount = f/((1+inter)**t)

**Print out the math calculation**

print(NeededAmount)
