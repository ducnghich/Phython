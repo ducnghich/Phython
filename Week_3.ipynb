{
  "nbformat": 4,
  "nbformat_minor": 0,
  "metadata": {
    "colab": {
      "name": "Week 3",
      "provenance": [],
      "authorship_tag": "ABX9TyOUjo6SU09rTLGPsDIiIAsm",
      "include_colab_link": true
    },
    "kernelspec": {
      "name": "python3",
      "display_name": "Python 3"
    },
    "language_info": {
      "name": "python"
    }
  },
  "cells": [
    {
      "cell_type": "markdown",
      "metadata": {
        "id": "view-in-github",
        "colab_type": "text"
      },
      "source": [
        "<a href=\"https://colab.research.google.com/github/ducnghich/Phython/blob/main/Week_3.ipynb\" target=\"_parent\"><img src=\"https://colab.research.google.com/assets/colab-badge.svg\" alt=\"Open In Colab\"/></a>"
      ]
    },
    {
      "cell_type": "code",
      "execution_count": 9,
      "metadata": {
        "colab": {
          "base_uri": "https://localhost:8080/"
        },
        "id": "00y616Pe5z27",
        "outputId": "63c4f998-480b-4176-ff9a-e6acd4f416a3"
      },
      "outputs": [
        {
          "output_type": "stream",
          "name": "stdout",
          "text": [
            "Please enter the amount of future money you want:20000\n",
            "Please enter the apr :.05\n",
            "Please enter the term:3\n",
            "17276.75197062952\n"
          ]
        }
      ],
      "source": [
        "f = float(input('Please enter the amount of future money you want:'))\n",
        "inter = float(input(\"Please enter the apr in decimal:\"))\n",
        "t = float(input('Please enter the term: '))\n",
        "\n",
        "NeededAmount = f/((1+inter)**t)\n",
        "print(NeededAmount)"
      ]
    },
    {
      "cell_type": "code",
      "source": [
        "invest = float(input('Please enter the amount you want to invest:'))\n",
        "inter = float(input(\"Please enter the apr in decimal:\"))\n",
        "t = float(input('Please enter the term: '))\n",
        "\n",
        "Futureinvest = invest*((1+inter)**t)\n",
        "print(NeededAmount)"
      ],
      "metadata": {
        "colab": {
          "base_uri": "https://localhost:8080/"
        },
        "id": "6IdR031fAVRQ",
        "outputId": "6f1362d6-7675-4642-8d92-f2df338186e6"
      },
      "execution_count": 10,
      "outputs": [
        {
          "output_type": "stream",
          "name": "stdout",
          "text": [
            "Please enter the amount you want to invest:2000\n",
            "Please enter the apr in decimal:.05\n",
            "Please enter the term: 10\n",
            "17276.75197062952\n"
          ]
        }
      ]
    },
    {
      "cell_type": "markdown",
      "source": [
        "<h1> Assignment 3</h1>\n",
        "<h2> Part 1 </h2>\n",
        "<h3> Ask user for input </h3>\n",
        "\n",
        "f = float(input('Please enter the amount of future money you want:'))\n",
        "\n",
        "inter = float(input(\"Please enter the apr in decimal:\"))\n",
        "\n",
        "t = float(input('Please enter the term: '))\n",
        "\n",
        "**Math portion**\n",
        "\n",
        "NeededAmount = f/((1+inter)**t)\n",
        "\n",
        "**Print out the math calculation**\n",
        "\n",
        "print(NeededAmount)\n",
        "<h2> Part 2 </h2>\n",
        "<h3> Ask user for input </h3>\n",
        "invest = float(input('Please enter the amount you want to invest:'))\n",
        "\n",
        "inter = float(input(\"Please enter the apr in \n",
        "decimal:\"))\n",
        "\n",
        "t = float(input('Please enter the term: '))\n",
        "\n",
        "**Math portion**\n",
        "Futureinvest = invest*((1+inter)**t)\n",
        "\n",
        "**Print out the math calculation**\n",
        "\n",
        "print(NeededAmount)"
      ],
      "metadata": {
        "id": "7ywRJlGq9sGM"
      }
    }
  ]
}