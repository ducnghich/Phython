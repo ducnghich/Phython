{
  "nbformat": 4,
  "nbformat_minor": 0,
  "metadata": {
    "colab": {
      "name": "HW9",
      "provenance": [],
      "authorship_tag": "ABX9TyO64vtkAxxNXIUPY21bFOeM",
      "include_colab_link": true
    },
    "kernelspec": {
      "name": "python3",
      "display_name": "Python 3"
    },
    "language_info": {
      "name": "python"
    }
  },
  "cells": [
    {
      "cell_type": "markdown",
      "metadata": {
        "id": "view-in-github",
        "colab_type": "text"
      },
      "source": [
        "<a href=\"https://colab.research.google.com/github/ducnghich/Phython/blob/main/HW9.ipynb\" target=\"_parent\"><img src=\"https://colab.research.google.com/assets/colab-badge.svg\" alt=\"Open In Colab\"/></a>"
      ]
    },
    {
      "cell_type": "code",
      "execution_count": 5,
      "metadata": {
        "colab": {
          "base_uri": "https://localhost:8080/"
        },
        "id": "4-M5Wl_udOAm",
        "outputId": "6f3a3395-d805-46ba-dad1-d6813ee98089"
      },
      "outputs": [
        {
          "output_type": "stream",
          "name": "stdout",
          "text": [
            "13\n",
            "2\n",
            "6.833333333333333\n",
            "5.683245170896967\n",
            "4.070217029430577\n"
          ]
        }
      ],
      "source": [
        "import numpy as np\n",
        "import math as m\n",
        "def theMax(numbers):\n",
        "  my_max = numbers[0]\n",
        "  for i in numbers:\n",
        "    if my_max  < i:\n",
        "      my_max = i\n",
        "  return my_max\n",
        "\n",
        "def theMin(numbers):\n",
        "  my_min = numbers[0]\n",
        "  for i in numbers:\n",
        "    if my_min  > i:\n",
        "      my_min = i\n",
        "  return my_min\n",
        "\n",
        "def theAverage(numbers):\n",
        "  total = 0 \n",
        "  for i in numbers:\n",
        "    total += i\n",
        "  return total/len(numbers)\n",
        "\n",
        "def theGeoMean(numbers):\n",
        "  total = 1\n",
        "  for i in numbers:\n",
        "    total *=i\n",
        "  return total**(1/len(numbers))\n",
        "\n",
        "def theStandardDev(numbers):\n",
        "  theAvg = theAverage(numbers)\n",
        "  total = 0 \n",
        "  for i in numbers:\n",
        "    total = total + (i - theAvg)**2\n",
        "  return m.sqrt(total/(len(numbers)-1))\n",
        "\n",
        "a = [8,6,2,9,13,3]\n",
        "print(theMax(a))\n",
        "print(theMin(a))\n",
        "print(theAverage(a))\n",
        "print(theGeoMean(a))\n",
        "print(theStandardDev(a))"
      ]
    },
    {
      "cell_type": "code",
      "source": [
        "import numpy as np\n",
        "import math as m\n",
        "\n",
        "def circleArea(radius):\n",
        "  return m.pi*radius**2\n",
        "\n",
        "def rectangleArea(length,width):\n",
        "  return length*width\n",
        "\n",
        "def squareArea(side):\n",
        "  return side*side\n",
        "\n",
        "def triangleArea(base,height):\n",
        "  return base*height/2\n",
        "\n",
        "def generalArea():\n",
        "  value = input(\"Which would you like to know the are of [circle, square, rectangle, triangle]\")\n",
        "  if value == 'circle':\n",
        "    radius = float(input('What is the radius'))\n",
        "    print(f\"The area of the circle is {circleArea(radius)}.\")\n",
        "  elif value == 'square':\n",
        "    side = float(input(\"What is the side \"))\n",
        "    print(f\"The area of the square is {squareArea(side)}.\")\n",
        "  elif value == 'rectangle':\n",
        "    length = float(input(\"What is the length \")) \n",
        "    width = float(input(\"What is the width\"))\n",
        "    print(f\"The area of the rectangle is {rectangleArea(length,width)}.\")\n",
        "  elif value == 'triangle':\n",
        "    base = float(input(\"What is the base \")) \n",
        "    height = float(input(\"What is the height\"))\n",
        "    print(f\"The area of the rectangle is {triangleArea(base,height)}.\")\n",
        "  else:\n",
        "    print(\"That is not a valid input,try again!!!\")\n",
        "    generalArea()\n",
        "generalArea()\n"
      ],
      "metadata": {
        "colab": {
          "base_uri": "https://localhost:8080/"
        },
        "id": "6jBwZKTNr2W7",
        "outputId": "42decf5d-031e-4759-a0c0-e168bf3f1c90"
      },
      "execution_count": 14,
      "outputs": [
        {
          "output_type": "stream",
          "name": "stdout",
          "text": [
            "Which would you like to know the are of [circle, square, rectangle, triangle]square\n",
            "What is the side 5\n",
            "The area of the square is 25.0.\n"
          ]
        }
      ]
    },
    {
      "cell_type": "code",
      "source": [
        "import numpy as np\n",
        "\n",
        "\n",
        "def listDoubling():\n",
        "\n",
        "  x = [1,2,3]\n",
        "  y = [1,2,3]\n",
        "  choice = int(input(\"Would you like to double it be way 1 or way 2?\"))\n",
        "  if choice == 1:\n",
        "    print(x+y)\n",
        "  else:\n",
        "    print(np.array(x)+ np.array(y))\n",
        "\n",
        "listDoubling()"
      ],
      "metadata": {
        "colab": {
          "base_uri": "https://localhost:8080/"
        },
        "id": "ZSj1_dBqwILD",
        "outputId": "66585807-32a2-40c9-d71a-5bb6970a3982"
      },
      "execution_count": null,
      "outputs": [
        {
          "output_type": "stream",
          "name": "stdout",
          "text": [
            "Would you like to double it be way 1 or way 2?1\n",
            "[1, 2, 3, 1, 2, 3]\n"
          ]
        }
      ]
    },
    {
      "cell_type": "code",
      "source": [
        "def concatenatePosition(list1,list2):\n",
        "  myBigList = []\n",
        "  for i in range(len(list1)):\n",
        "    myBigList.append(float(str(list1[i]) + str(list2[i])))\n",
        "  return myBigList\n",
        "\n",
        "list1 = [1,2,3]\n",
        "list2 = [7,8,9]\n",
        "bigList = concatenatePosition(list1,list2)\n",
        "print(bigList)"
      ],
      "metadata": {
        "colab": {
          "base_uri": "https://localhost:8080/"
        },
        "id": "gFXd8F8QxbJs",
        "outputId": "3bf36c79-7e2a-444c-f8bb-26aa7911a300"
      },
      "execution_count": null,
      "outputs": [
        {
          "output_type": "stream",
          "name": "stdout",
          "text": [
            "[17.0, 28.0, 39.0]\n"
          ]
        }
      ]
    },
    {
      "cell_type": "code",
      "source": [
        "def isPrime(num):\n",
        "  for i in range(2,num):\n",
        "    if (num%i == 0):\n",
        "      return False\n",
        "    return True\n",
        "\n",
        "def listPrimes(amount):\n",
        "  myList = []\n",
        "  count = 0 \n",
        "  checkVal = 2 \n",
        "  while (count < amount):\n",
        "    if(isPrime(checkVal)):\n",
        "      myList.append(checkVal)\n",
        "      count +=1 \n",
        "    checkVal += 1 \n",
        "  return myList\n",
        "\n",
        "print(listPrimes(100))"
      ],
      "metadata": {
        "colab": {
          "base_uri": "https://localhost:8080/"
        },
        "id": "N0xgVAKnzlIK",
        "outputId": "9dab92a2-689c-465b-da08-f9ab2660472a"
      },
      "execution_count": null,
      "outputs": [
        {
          "output_type": "stream",
          "name": "stdout",
          "text": [
            "[3, 5, 7, 9, 11, 13, 15, 17, 19, 21, 23, 25, 27, 29, 31, 33, 35, 37, 39, 41, 43, 45, 47, 49, 51, 53, 55, 57, 59, 61, 63, 65, 67, 69, 71, 73, 75, 77, 79, 81, 83, 85, 87, 89, 91, 93, 95, 97, 99, 101, 103, 105, 107, 109, 111, 113, 115, 117, 119, 121, 123, 125, 127, 129, 131, 133, 135, 137, 139, 141, 143, 145, 147, 149, 151, 153, 155, 157, 159, 161, 163, 165, 167, 169, 171, 173, 175, 177, 179, 181, 183, 185, 187, 189, 191, 193, 195, 197, 199, 201]\n"
          ]
        }
      ]
    },
    {
      "cell_type": "code",
      "source": [
        "def calculation (one,two):\n",
        "  return one*two, one/two\n",
        "\n",
        "myVal = calculation (9,2)\n",
        "print(myVal[0])\n",
        "print(myVal[1])"
      ],
      "metadata": {
        "colab": {
          "base_uri": "https://localhost:8080/"
        },
        "id": "evtHYFTS1EX8",
        "outputId": "abc2d1d0-5a63-46f6-a121-e594920ebb9b"
      },
      "execution_count": null,
      "outputs": [
        {
          "output_type": "stream",
          "name": "stdout",
          "text": [
            "18\n",
            "4.5\n"
          ]
        }
      ]
    },
    {
      "cell_type": "code",
      "source": [
        "myList = []\n",
        "for i in range (1000):\n",
        "  if (i%3 == 0) or (i%5 == 0):\n",
        "    myList.append(i)\n",
        "\n",
        "total = 0 \n",
        "for i in myList:\n",
        "  total = total + i \n",
        "\n",
        "print(total)"
      ],
      "metadata": {
        "colab": {
          "base_uri": "https://localhost:8080/"
        },
        "id": "X3CFqjFT1pIy",
        "outputId": "69903b4a-2e74-49a8-ac7b-5da134bc9721"
      },
      "execution_count": null,
      "outputs": [
        {
          "output_type": "stream",
          "name": "stdout",
          "text": [
            "233168\n"
          ]
        }
      ]
    },
    {
      "cell_type": "code",
      "source": [
        "bound = 500\n",
        "numOne= 1 \n",
        "numTwo = 1 \n",
        "numThree = numOne + numTwo\n",
        "total = 0 \n",
        "\n",
        "while numThree < bound:\n",
        "  numThree = numOne+ numTwo \n",
        "  if numThree%2 == 0 and numThree < bound:\n",
        "    total += numThree\n",
        "  numOne = numTwo\n",
        "  numTwo = numThree\n",
        "\n",
        "print(total)"
      ],
      "metadata": {
        "colab": {
          "base_uri": "https://localhost:8080/"
        },
        "id": "wJQo-6Az2aHr",
        "outputId": "b8fa3c64-3bb2-4383-e94d-8d1f9af08dfc"
      },
      "execution_count": null,
      "outputs": [
        {
          "output_type": "stream",
          "name": "stdout",
          "text": [
            "188\n"
          ]
        }
      ]
    }
  ]
}